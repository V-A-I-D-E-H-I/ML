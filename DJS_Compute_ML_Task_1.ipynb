{
  "nbformat": 4,
  "nbformat_minor": 0,
  "metadata": {
    "colab": {
      "provenance": [],
      "authorship_tag": "ABX9TyMC54Uou7OFk2ClHxe5IBCm",
      "include_colab_link": true
    },
    "kernelspec": {
      "name": "python3",
      "display_name": "Python 3"
    },
    "language_info": {
      "name": "python"
    }
  },
  "cells": [
    {
      "cell_type": "markdown",
      "metadata": {
        "id": "view-in-github",
        "colab_type": "text"
      },
      "source": [
        "<a href=\"https://colab.research.google.com/github/HarshShetye/Djs_Compute_Task/blob/main/DJS_Compute_ML_Task_1.ipynb\" target=\"_parent\"><img src=\"https://colab.research.google.com/assets/colab-badge.svg\" alt=\"Open In Colab\"/></a>"
      ]
    },
    {
      "cell_type": "markdown",
      "source": [
        "Q1"
      ],
      "metadata": {
        "id": "JyTepANk4eWn"
      }
    },
    {
      "cell_type": "code",
      "source": [
        "N, X = input(\"No. of Students and Subjects: \").split()\n",
        "student_marks = list()\n",
        "for _ in range(int(X)):\n",
        "    Subject_marks = map(float, input(\"Subject marks: \").split())\n",
        "    student_marks.append(Subject_marks)\n",
        "for i in zip(*student_marks): \n",
        "    print(f\"Avg marks of student {sum(i)/len(i)}\") "
      ],
      "metadata": {
        "id": "cZ66D_tB4cGu",
        "colab": {
          "base_uri": "https://localhost:8080/"
        },
        "outputId": "8f8a2435-18a9-468e-b7dd-da91b58bcbdb"
      },
      "execution_count": null,
      "outputs": [
        {
          "output_type": "stream",
          "name": "stdout",
          "text": [
            "No. of Students and Subjects: 5 3\n",
            "Subject marks: 89 90 78 93 80\n",
            "Subject marks: 90 91 85 88 86\n",
            "Subject marks: 91 92 83 89 90.5\n",
            "Avg marks of student 90.0\n",
            "Avg marks of student 91.0\n",
            "Avg marks of student 82.0\n",
            "Avg marks of student 90.0\n",
            "Avg marks of student 85.5\n"
          ]
        }
      ]
    },
    {
      "cell_type": "markdown",
      "source": [
        "Q2"
      ],
      "metadata": {
        "id": "3H3djdV24dln"
      }
    },
    {
      "cell_type": "code",
      "source": [
        "if __name__ == '__main__':\n",
        "    N = int(input())\n",
        "    my_list=[];\n",
        "    for i in range(0,N):\n",
        "        list_ele=input().split();\n",
        "        if list_ele[0] == \"insert\":\n",
        "            my_list.insert(int(list_ele[1]),int(list_ele[2]))\n",
        "        elif list_ele[0] == \"append\":\n",
        "            my_list.append(int(list_ele[1]))\n",
        "        elif list_ele[0] == \"pop\":\n",
        "            my_list.pop();\n",
        "        elif list_ele[0] == \"print\":\n",
        "            print(my_list)\n",
        "        elif list_ele[0] == \"remove\":\n",
        "            my_list.remove(int(list_ele[1]))\n",
        "        elif list_ele[0] == \"sort\":\n",
        "            my_list.sort();\n",
        "        else:\n",
        "            my_list.reverse();"
      ],
      "metadata": {
        "id": "-TyT-8Hx4cEB",
        "colab": {
          "base_uri": "https://localhost:8080/"
        },
        "outputId": "ce453392-95bf-4545-dd41-8232ae920536"
      },
      "execution_count": null,
      "outputs": [
        {
          "output_type": "stream",
          "name": "stdout",
          "text": [
            "12\n",
            "insert 0 5\n",
            "insert 1 10\n",
            "insert 0 6\n",
            "print\n",
            "[6, 5, 10]\n",
            "remove 6\n",
            "append 9\n",
            "append 1\n",
            "sort\n",
            "print\n",
            "[1, 5, 9, 10]\n",
            "pop\n",
            "reverse\n",
            "print\n",
            "[9, 5, 1]\n"
          ]
        }
      ]
    },
    {
      "cell_type": "markdown",
      "source": [
        "Q3"
      ],
      "metadata": {
        "id": "4MtZiXsF4ciQ"
      }
    },
    {
      "cell_type": "code",
      "source": [
        "if __name__ == '__main__':\n",
        "    n = int(input(\"Enter no. of students: \"))\n",
        "    student_marks = {}\n",
        "    for _ in range(n):\n",
        "        line = input(\"Enter students name and marks scored: \").split()\n",
        "        name, scores = line[0], line[1:]\n",
        "        scores = map(float, scores)\n",
        "        student_marks[name] = scores\n",
        "    query_name = input(\"Enter the students name for avg marks calculation: \")\n",
        "    marks=0\n",
        "    for i in student_marks[query_name]:\n",
        "        marks=marks+i\n",
        "    avg=marks/3\n",
        "    print(\"Avg marks  %.2f\"%avg)"
      ],
      "metadata": {
        "id": "o2cbW0Ed4cA-",
        "colab": {
          "base_uri": "https://localhost:8080/"
        },
        "outputId": "fb0c10dd-9f0c-49a9-ecd1-7fd0c9a00973"
      },
      "execution_count": null,
      "outputs": [
        {
          "output_type": "stream",
          "name": "stdout",
          "text": [
            "Enter no. of students: 3\n",
            "Enter students name and marks scored: Krishna 67 68 69 \n",
            "Enter students name and marks scored: Arjun 70 98 63 \n",
            "Enter students name and marks scored: Malika 52 56 60\n",
            "Enter the students name for avg marks calculation: Malika\n",
            "Avg marks  56.00\n"
          ]
        }
      ]
    },
    {
      "cell_type": "markdown",
      "source": [
        "Q4"
      ],
      "metadata": {
        "id": "3pXpIVvr4ar6"
      }
    },
    {
      "cell_type": "code",
      "source": [
        "import re\n",
        "\n",
        "def fun(s):\n",
        "  email = re.match(r'[a-zA-Z0-9_-]+@[a-zA-Z0-9]+\\.[a-zA-Z]{1,3}$',s)            # using re.match function\n",
        "  return(email)                                                                 # returning the email address\n",
        "\n",
        "def filter_mail(emails):\n",
        "    return list(filter(fun, emails))\n",
        "\n",
        "if __name__ == '__main__':\n",
        "    n = int(input(\"No. of emails: \"))\n",
        "    emails = []\n",
        "    for _ in range(n):\n",
        "        emails.append(input(\"Email address: \"))\n",
        "\n",
        "filtered_emails = filter_mail(emails)\n",
        "filtered_emails.sort()\n",
        "print(f\"Valid email addresses {filtered_emails}\")"
      ],
      "metadata": {
        "id": "O5f8M63Z4aYU",
        "colab": {
          "base_uri": "https://localhost:8080/"
        },
        "outputId": "4554d62e-395b-4c34-b7ea-eea256485003"
      },
      "execution_count": null,
      "outputs": [
        {
          "output_type": "stream",
          "name": "stdout",
          "text": [
            "No. of emails: 3\n",
            "Email address: lara@hackerrank.com\n",
            "Email address: brian-23@hackerrank.com\n",
            "Email address: britts_54@hackerrank.com\n",
            "Valid email addresses ['brian-23@hackerrank.com', 'britts_54@hackerrank.com', 'lara@hackerrank.com']\n"
          ]
        }
      ]
    },
    {
      "cell_type": "markdown",
      "source": [
        "Q5"
      ],
      "metadata": {
        "id": "zKYcgy8p4YKM"
      }
    },
    {
      "cell_type": "code",
      "source": [
        "def mutate_string(string, index , char):\n",
        "    my_list = list(string)\n",
        "    my_list[index] = char;\n",
        "    string = ''.join(my_list);\n",
        "    return string\n",
        "if __name__ == '__main__':\n",
        "    s = input()\n",
        "    i, c = input().split()\n",
        "    s_new = mutate_string(s, int(i), c)\n",
        "    print(s_new)"
      ],
      "metadata": {
        "id": "NC69iqdc3ouT",
        "colab": {
          "base_uri": "https://localhost:8080/"
        },
        "outputId": "e27b3fc7-c294-4830-f3b7-c269fe3e792d"
      },
      "execution_count": null,
      "outputs": [
        {
          "output_type": "stream",
          "name": "stdout",
          "text": [
            "abracadabra\n",
            "5 k\n",
            "abrackdabra\n"
          ]
        }
      ]
    },
    {
      "cell_type": "markdown",
      "source": [
        "Q6"
      ],
      "metadata": {
        "id": "3mHVJgWE4Wr8"
      }
    },
    {
      "cell_type": "code",
      "source": [
        "list_1 = [10, 20, 30, 40, 10]\n",
        "list_2 = [75, 35, 65, 75, 30]\n",
        "def elements(test_list):\n",
        "  print(f\"The original list is : {test_list}\")\n",
        "  ele = [test_list[i] for i in (0, -1)]\n",
        "  print(f\"The first and last element of list are : {ele}\")\n",
        "  if test_list[0] == test_list[-1]:\n",
        "    print(\"The first and last element of list are same\\n\")\n",
        "  else:\n",
        "    print(\"The first and last element of list are not same\\n\")  \n",
        "\n",
        "elements(list_1)\n",
        "elements(list_2)"
      ],
      "metadata": {
        "colab": {
          "base_uri": "https://localhost:8080/"
        },
        "id": "kve_hD7y14Z0",
        "outputId": "4d7b05b3-d3aa-45d1-8af9-f1ed53f2fd92"
      },
      "execution_count": null,
      "outputs": [
        {
          "output_type": "stream",
          "name": "stdout",
          "text": [
            "The original list is : [10, 20, 30, 40, 10]\n",
            "The first and last element of list are : [10, 10]\n",
            "The first and last element of list are same\n",
            "\n",
            "The original list is : [75, 35, 65, 75, 30]\n",
            "The first and last element of list are : [75, 30]\n",
            "The first and last element of list are not same\n",
            "\n"
          ]
        }
      ]
    },
    {
      "cell_type": "markdown",
      "source": [
        "Q7"
      ],
      "metadata": {
        "id": "MGBj7tqG4T9m"
      }
    },
    {
      "cell_type": "code",
      "execution_count": null,
      "metadata": {
        "colab": {
          "base_uri": "https://localhost:8080/"
        },
        "id": "T_3OUJqZ0IEd",
        "outputId": "b0fb4330-8438-46d4-c2df-301be6999d8c"
      },
      "outputs": [
        {
          "output_type": "stream",
          "name": "stdout",
          "text": [
            "Enter number of rows: 5\n",
            "1 \n",
            "\n",
            "2 2 \n",
            "\n",
            "3 3 3 \n",
            "\n",
            "4 4 4 4 \n",
            "\n",
            "5 5 5 5 5 \n",
            "\n"
          ]
        }
      ],
      "source": [
        "rows = int(input(\"Enter number of rows: \"))\n",
        "for i in range(rows):\n",
        "  for j in range(i + 1):\n",
        "    print(i + 1, end=\" \") \n",
        "  i += 1\n",
        "  print(\"\\n\")"
      ]
    }
  ]
}